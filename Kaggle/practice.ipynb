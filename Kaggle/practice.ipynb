{
 "cells": [
  {
   "cell_type": "code",
   "execution_count": null,
   "metadata": {},
   "outputs": [],
   "source": [
    "import pandas as pd\n",
    "import numpy as np\n",
    "import seaborn as sns\n",
    "\n",
    "import matplotlib.pyplot as plt\n",
    "plt.style.use('ggplot') # 시각화 배경그림 이쁘게\n",
    "\n",
    "\n",
    "import matplotlib\n",
    "matplotlib.rcParams['figure.figsize'] = (12, 8) # 시각화 배경 사이즈 크게\n"
   ]
  },
  {
   "cell_type": "code",
   "execution_count": null,
   "metadata": {},
   "outputs": [],
   "source": [
    "import os\n",
    "os.getcwd()"
   ]
  },
  {
   "cell_type": "code",
   "execution_count": null,
   "metadata": {},
   "outputs": [],
   "source": [
    "fig, axs = plt.subplot(3,1)"
   ]
  },
  {
   "cell_type": "code",
   "execution_count": null,
   "metadata": {},
   "outputs": [],
   "source": [
    "df = pd.read_csv('movies.csv')\n",
    "df"
   ]
  },
  {
   "cell_type": "code",
   "execution_count": null,
   "metadata": {},
   "outputs": [],
   "source": [
    "df.dtypes"
   ]
  },
  {
   "cell_type": "code",
   "execution_count": null,
   "metadata": {},
   "outputs": [],
   "source": [
    "'''\n",
    "데이터 결측치 상황\n",
    "'''\n",
    "for col in df.columns:\n",
    "    pct_missing = np.mean(df[col].isnull())\n",
    "    print(f'{col} - {round(pct_missing * 100)} %')\n",
    "    "
   ]
  },
  {
   "cell_type": "code",
   "execution_count": null,
   "metadata": {},
   "outputs": [],
   "source": [
    "'''\n",
    "numeric 변수의 결측값을 0으로 채워주고 dtype은 int64로 해주었다.\n",
    "'''\n",
    "df['budget'] = df['budget'].fillna(0).astype('int64')\n",
    "df['gross'] = df['gross'].fillna(0).astype('int64')"
   ]
  },
  {
   "cell_type": "code",
   "execution_count": null,
   "metadata": {},
   "outputs": [],
   "source": [
    "df.columns"
   ]
  },
  {
   "cell_type": "code",
   "execution_count": null,
   "metadata": {},
   "outputs": [],
   "source": [
    "'''\n",
    "gross (예산이 높은 순서대로 dataframe 읽어보기)\n",
    "'''\n",
    "df.sort_values(by=['gross'], inplace = False, ascending= False)"
   ]
  },
  {
   "cell_type": "code",
   "execution_count": null,
   "metadata": {},
   "outputs": [],
   "source": [
    "df['yearcorrect'] = df['released'].astype(str).str[:4]\n",
    "df"
   ]
  },
  {
   "cell_type": "code",
   "execution_count": null,
   "metadata": {},
   "outputs": [],
   "source": [
    "plt.scatter(x = df['budget'], y = df['gross'])\n",
    "plt.title('Budget vs Gross Earnings')\n",
    "plt.xlabel('Gross Earnings')\n",
    "plt.ylabel('Film Budget')\n",
    "plt.show()"
   ]
  },
  {
   "cell_type": "code",
   "execution_count": null,
   "metadata": {},
   "outputs": [],
   "source": [
    "'''\n",
    "x축은 예산, y축은 수익으로 두었을 때, 회귀선은 정비례임을 보인다.\n",
    "'''\n",
    "\n",
    "sns.regplot(x = 'budget', y = 'gross', data = df, scatter_kws={\"color\": \"red\"}, line_kws= {\"color\" : \"darkblue\"})"
   ]
  },
  {
   "cell_type": "code",
   "execution_count": null,
   "metadata": {},
   "outputs": [],
   "source": [
    "numeric_df = df.select_dtypes(include=[np.number])\n",
    "correlation_matrix = numeric_df.corr()\n",
    "print(correlation_matrix)"
   ]
  },
  {
   "cell_type": "code",
   "execution_count": null,
   "metadata": {},
   "outputs": [],
   "source": [
    "sns.heatmap(correlation_matrix, annot = True, cmap = 'coolwarm', linewidths= 0.5)\n",
    "plt.title('Correlation Matrix for Numeric Features')\n",
    "plt.xlabel('Features')\n",
    "plt.ylabel('Features')\n",
    "plt.show()"
   ]
  },
  {
   "cell_type": "code",
   "execution_count": null,
   "metadata": {},
   "outputs": [],
   "source": [
    "df.dtypes"
   ]
  },
  {
   "cell_type": "code",
   "execution_count": null,
   "metadata": {},
   "outputs": [],
   "source": [
    "df2 = df\n",
    "\n",
    "for col in df2.columns:\n",
    "    if (df2[col].dtype == 'object'):\n",
    "        df2[col] = df2[col].astype('category')\n",
    "        print(df.dtypes)\n",
    "        df2[col] = df2[col].cat.codes\n",
    "    \n",
    "df2"
   ]
  },
  {
   "cell_type": "code",
   "execution_count": null,
   "metadata": {},
   "outputs": [],
   "source": [
    "correlation_matrix2 = df2.corr(method='pearson')\n",
    "\n",
    "sns.heatmap(correlation_matrix2, annot=True)\n",
    "plt.title('Correlation Matrix for Numeric Features')\n",
    "plt.xlabel('Features')\n",
    "plt.ylabel('Features')\n",
    "plt.show()"
   ]
  },
  {
   "cell_type": "code",
   "execution_count": null,
   "metadata": {},
   "outputs": [],
   "source": [
    "corr_matrix3 = df2.corr()\n",
    "cor_pairs = corr_matrix3.unstack()\n",
    "sort_pairs = cor_pairs.sort_values()\n",
    "sort_pairs"
   ]
  },
  {
   "cell_type": "code",
   "execution_count": null,
   "metadata": {},
   "outputs": [],
   "source": [
    "high_corr = sort_pairs[sort_pairs > 0.5]\n",
    "high_corr"
   ]
  },
  {
   "cell_type": "code",
   "execution_count": null,
   "metadata": {},
   "outputs": [],
   "source": [
    "'''\n",
    "상관계수가 높은 값들을 뺀 결과,\n",
    "높은 순서대로\n",
    "budget 과 gross\n",
    "gross 와 votes  로 나타났다.\n",
    "즉, 예산과 수입은 양의 상관\n",
    "수입과 투표수/평점 또한 양의 상관을 보였다.\n",
    "\n",
    "'''"
   ]
  },
  {
   "cell_type": "code",
   "execution_count": null,
   "metadata": {},
   "outputs": [],
   "source": [
    "import matplotlib.pyplot as plt\n",
    "\n",
    "# 히스토그램 시각화\n",
    "plt.figure(figsize=(10, 6))\n",
    "plt.hist(df['votes'], bins=30, color='skyblue', edgecolor='black')\n",
    "plt.title('Distribution of Votes')\n",
    "plt.xlabel('Number of Votes')\n",
    "plt.ylabel('Frequency')\n",
    "plt.grid(True)\n",
    "plt.show()\n"
   ]
  },
  {
   "cell_type": "code",
   "execution_count": null,
   "metadata": {},
   "outputs": [],
   "source": [
    "correlation_matrix"
   ]
  },
  {
   "cell_type": "code",
   "execution_count": null,
   "metadata": {},
   "outputs": [],
   "source": [
    "plt.figure(figsize=(12, 8))\n",
    "sns.heatmap(correlation_matrix, annot=True, linewidths=0.5, mask=np.triu(correlation_matrix))\n",
    "plt.title('Final Visualization: Correlation Matrix for Numeric Features')\n",
    "plt.xlabel('Movie Features')\n",
    "plt.ylabel('Movie Features')\n",
    "plt.show()"
   ]
  }
 ],
 "metadata": {
  "kernelspec": {
   "display_name": "Python 3",
   "language": "python",
   "name": "python3"
  },
  "language_info": {
   "codemirror_mode": {
    "name": "ipython",
    "version": 3
   },
   "file_extension": ".py",
   "mimetype": "text/x-python",
   "name": "python",
   "nbconvert_exporter": "python",
   "pygments_lexer": "ipython3",
   "version": "3.11.9"
  }
 },
 "nbformat": 4,
 "nbformat_minor": 2
}
