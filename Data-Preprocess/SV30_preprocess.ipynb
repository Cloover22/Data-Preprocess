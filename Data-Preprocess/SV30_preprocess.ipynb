{
 "cells": [
  {
   "cell_type": "markdown",
   "id": "3174d779",
   "metadata": {},
   "source": [
    "# A선박 전체 전처리 파이프라인 및 시각화 "
   ]
  },
  {
   "cell_type": "code",
   "execution_count": 1,
   "id": "368c102f",
   "metadata": {},
   "outputs": [
    {
     "data": {
      "text/plain": [
       "1"
      ]
     },
     "execution_count": 1,
     "metadata": {},
     "output_type": "execute_result"
    }
   ],
   "source": [
    "1"
   ]
  },
  {
   "cell_type": "code",
   "execution_count": null,
   "id": "56739b47",
   "metadata": {},
   "outputs": [],
   "source": [
    "# 데이터 row 값 생략 없이 모두 출력하기\n",
    "#pd.set_option('display.max_rows', None)\n",
    "# 초기화\n",
    "pd.reset_option('display.max_rows')\n",
    "\n",
    "'''\n",
    "중간 중간 주요 필터링 함수에서 Log가 찍히도록 추가하면 더 좋을 것 같습니다. (tqdm을 사용하면 더 좋겠죠)\n",
    "나머지는 훌륭합니다.\n",
    "'''"
   ]
  },
  {
   "cell_type": "code",
   "execution_count": null,
   "id": "8c317b4d",
   "metadata": {},
   "outputs": [],
   "source": [
    "import pandas as pd\n",
    "import folium as f\n",
    "import os\n",
    "import glob\n",
    "import matplotlib.pyplot as plt\n",
    "from glob import glob\n",
    "import seaborn as sns\n",
    "import datetime\n",
    "import random\n",
    "import numpy as np\n",
    "from haversine import haversine\n",
    "from sklearn.cluster import DBSCAN\n",
    "import itertools\n",
    "from tqdm import tqdm"
   ]
  },
  {
   "cell_type": "code",
   "execution_count": null,
   "id": "884ae4b3",
   "metadata": {},
   "outputs": [],
   "source": [
    "all_csv = glob('/STORAGE/DATA/01_KRISO_G_MAPPED_DATA/Position_LTEM/*.csv')\n",
    "all_csv = sorted(all_csv)\n",
    "selected_csv = all_csv[0:25]\n",
    "\n",
    "total = pd.DataFrame()\n",
    "\n",
    "for sel in tqdm(selected_csv):\n",
    "    temp = pd.read_csv(sel, sep = ',', encoding='utf-8')\n",
    "    total = pd.concat([total, temp])"
   ]
  },
  {
   "cell_type": "code",
   "execution_count": null,
   "id": "65837bf3",
   "metadata": {},
   "outputs": [],
   "source": [
    "# key 값은 A선박 종류 이름, value는 해당 dataframe을 받았다.\n",
    "\n",
    "start_a_ship = total[total.SHIP_CODE.str.startswith('A')].SHIP_CODE.unique()\n",
    "\n",
    "# key 값을 어선 종류, value 값을 해당 어선의 dataframe 으로 받게끔 했다.\n",
    "dict_ = {}\n",
    "\n",
    "for a_ship in start_a_ship:\n",
    "    value  = total[total.SHIP_CODE.values == a_ship]\n",
    "    dict_[a_ship] = value"
   ]
  },
  {
   "cell_type": "markdown",
   "id": "18df4d07",
   "metadata": {},
   "source": [
    "# ---------------------------------"
   ]
  },
  {
   "cell_type": "code",
   "execution_count": null,
   "id": "0d5b071c",
   "metadata": {},
   "outputs": [],
   "source": [
    "# SOG >= 2 Data frame \n",
    "def upper_2_dataframe(df):\n",
    "    # Dict.values 안에 있는 dataframe -> list\n",
    "    dict_to_lst = []\n",
    "    \n",
    "    for df in df.values():\n",
    "        dict_to_lst.append(df[df.dSOG.values >=2])\n",
    "    \n",
    "    # SOG <2 제외 하고 데이터 프레임 갱신\n",
    "    not_empty_df = [full for full in dict_to_lst if not full.empty]\n",
    "    \n",
    "    return not_empty_df"
   ]
  },
  {
   "cell_type": "code",
   "execution_count": null,
   "id": "73d5e4ae",
   "metadata": {},
   "outputs": [],
   "source": [
    "# 거리 파생변수 추가해주는 dataframe\n",
    "def add_distance_df(df):\n",
    "    \n",
    "    for i in range(len(df)):\n",
    "        dLat = df[i].dLat.tolist()\n",
    "        dLon = df[i].dLon.tolist()\n",
    "        position = []              # haversine 을 사용하기 위한 위, 경도 결합 리스트\n",
    "        dist = []  # haversine 을 사용하여 직선거리를 담아 둘 리스트 (파생변수 담아 둘 리스트)\n",
    "        \n",
    "        for pos in zip(dLat, dLon):\n",
    "            position.append(pos)\n",
    "\n",
    "        for j in range(1, len(position)):\n",
    "            dist.append(haversine(position[j-1], position[j]) * 1000) # haversine 은 default 가 km 이다.\n",
    "\n",
    "        df[i]['dist'] = np.mean(dist)\n",
    "        df[i]['dist'][1:] = dist\n",
    "        \n",
    "        position.clear()\n",
    "        dist.clear()\n",
    "    \n",
    "    return df"
   ]
  },
  {
   "cell_type": "code",
   "execution_count": null,
   "id": "32e3df71",
   "metadata": {},
   "outputs": [],
   "source": [
    "# 이전 좌표와의 거리 10 이상 df\n",
    "def dist_upper_10_df(df):\n",
    "    for i in range(len(df)):\n",
    "        df[i] = df[i][df[i].dist.values > 10]\n",
    "    return df"
   ]
  },
  {
   "cell_type": "code",
   "execution_count": null,
   "id": "576a61a5",
   "metadata": {},
   "outputs": [],
   "source": [
    "# 시간을 보기좋게 전처리 (tooltip)\n",
    "def reset_index_time_series(df):\n",
    "    for i in range(len(df)):\n",
    "        time_int = df[i].szMsgSendDT.values.tolist()\n",
    "        time_str = []\n",
    "        timestamp_ = []\n",
    "\n",
    "        for j in range(len(time_int)):\n",
    "            time_str.append(str(time_int[j]))\n",
    "        # 시간 정보를 보기 좋게 바꿔준다\n",
    "        for str_ in time_str:\n",
    "            n = datetime.datetime.strptime(str_,\"%Y%m%d%H%M%S%f\")\n",
    "            timestamp_.append(n.strftime(\"%Y-%m-%d-%H-%M-%S\"))\n",
    "        df[i]['szMsgSendDT'] = timestamp_\n",
    "        \n",
    "        time_str.clear()\n",
    "        timestamp_.clear()\n",
    "\n",
    "    return df"
   ]
  },
  {
   "cell_type": "code",
   "execution_count": null,
   "id": "499293e8",
   "metadata": {},
   "outputs": [],
   "source": [
    "# COG 간격 컬럼 추가\n",
    "def add_cog_interval(df):\n",
    "    for i in range(len(df)):\n",
    "        df[i]['dCOG_diff'] = abs(df[i]['dCOG'].diff())\n",
    "    return df"
   ]
  },
  {
   "cell_type": "code",
   "execution_count": null,
   "id": "d8b6059e",
   "metadata": {},
   "outputs": [],
   "source": [
    "'''\n",
    "B선박\n",
    "'''\n",
    "upper_2 = upper_2_dataframe(dict_)\n",
    "reset_time = reset_index_time_series(upper_2)\n",
    "\n",
    "# 최종 전처리 셋 : 모든 A 선박, 하나의 DATAFRAME 으로 저장 \n",
    "final_preprocessing  = pd.DataFrame()\n",
    "\n",
    "for each_B_ship_df in reset_time:\n",
    "    final_preprocessing = pd.concat([final_preprocessing, each_B_ship_df])\n",
    "    \n",
    "final_preprocessing.reset_index(inplace = True, drop = True)\n",
    "\n",
    "import plotly.express as px\n",
    "import plotly.offline as pyo\n",
    "\n",
    "fig = px.line_mapbox(final_preprocessing, lat = \"dLat\", lon = \"dLon\", color = 'SHIP_CODE', zoom =3, height=900)\n",
    "\n",
    "# 지도 배경 layout 토큰\n",
    "fig.update_layout(mapbox=dict(\n",
    "    accesstoken='pk.eyJ1IjoibGFnb29uNiIsImEiOiJjbGd4M2gycmkwM3VzM3JscGQ0YzlxYjU1In0.CBy01IB-Z8klhIcFRnkXKg',\n",
    "    zoom=3\n",
    "))\n",
    "    \n",
    "pyo.plot(fig, filename = 'B선박 전체동선(전처리 전).html')"
   ]
  },
  {
   "cell_type": "code",
   "execution_count": null,
   "id": "a863e0b2",
   "metadata": {},
   "outputs": [],
   "source": [
    "# 직선에 가장 가까운 상위 3가지 동선만 남기기\n",
    "def similar_straight_cog(df):\n",
    "    \n",
    "    flag = True\n",
    "    \n",
    "    for i in range(len(df)):\n",
    "        df[i] = df[i].reset_index()\n",
    "        df[i].drop(labels = 'index', axis = 1, inplace = True)\n",
    "        \n",
    "        # 이전 좌표와 COG 간격 차이가 20이상이 되는 순간들의 index 좌표들만 추출\n",
    "        index_lst = []\n",
    "        for idx, col in df[i].iterrows():\n",
    "            if col['dCOG_diff'] >= 20:\n",
    "                index_lst.append(idx)\n",
    "        \n",
    "        # 직선에 가까운 상위 3가지 동선 (인덱스 차이) 추출\n",
    "        interval_lst = []\n",
    "        for j in range(1,len(index_lst)):\n",
    "            interval_lst.append(index_lst[j] - index_lst[j-1])\n",
    "        sorted_interval_lst = sorted(interval_lst, reverse = True)\n",
    "        sort_3 = sorted_interval_lst[:3]\n",
    "\n",
    "\n",
    "        final = []\n",
    "        for k in range(1, len(index_lst)):\n",
    "            if index_lst[k] - index_lst[k-1] in sort_3:\n",
    "                final.append([index_lst[k-1], index_lst[k]])\n",
    "\n",
    "        indexes_to_keep = []\n",
    "        for start, end in final:\n",
    "            indexes_to_keep.extend(list(range(start, end + 1)))\n",
    "        \n",
    "        # 두번째 데이터 프레임 부터는 리스트를 초기화 하지 않는다.\n",
    "        if flag :\n",
    "            filtered_df = []\n",
    "\n",
    "        # 인덱스에 해당 행만 남기고 나머지 행 제거\n",
    "        filtered_df.append(df[i].iloc[indexes_to_keep])\n",
    "        flag = False\n",
    "    \n",
    "    return filtered_df"
   ]
  },
  {
   "cell_type": "code",
   "execution_count": null,
   "id": "35538131",
   "metadata": {},
   "outputs": [],
   "source": [
    "upper_2 = upper_2_dataframe(dict_)\n",
    "add_dist = add_distance_df(upper_2)\n",
    "dist_upper_10 = dist_upper_10_df(add_dist)\n",
    "reset_time = reset_index_time_series(dist_upper_10)\n",
    "add_cog = add_cog_interval(reset_time)\n",
    "straigt_line = similar_straight_cog(add_cog)"
   ]
  },
  {
   "cell_type": "code",
   "execution_count": null,
   "id": "a21b9b9a",
   "metadata": {},
   "outputs": [],
   "source": [
    "# 최종 전처리 셋 : 모든 A 선박, 하나의 DATAFRAME 으로 저장 \n",
    "final_preprocessing  = pd.DataFrame()\n",
    "\n",
    "for each_A_ship_df in straigt_line:\n",
    "    final_preprocessing = pd.concat([final_preprocessing, each_A_ship_df])\n",
    "    \n",
    "final_preprocessing"
   ]
  },
  {
   "cell_type": "markdown",
   "id": "7c628303",
   "metadata": {},
   "source": [
    "# 대용량 시각화 Datashaher , Plotly"
   ]
  },
  {
   "cell_type": "code",
   "execution_count": null,
   "id": "7d46e102",
   "metadata": {},
   "outputs": [],
   "source": [
    "import plotly.express as px\n",
    "import plotly.offline as pyo\n",
    "\n",
    "fig = px.line_mapbox(final_preprocessing, lat = \"dLat\", lon = \"dLon\", color = 'SHIP_CODE', zoom =3, height=900)\n",
    "\n",
    "# 지도 배경 layout 토큰\n",
    "fig.update_layout(mapbox=dict(\n",
    "    accesstoken='pk.eyJ1IjoibGFnb29uNiIsImEiOiJjbGd4M2gycmkwM3VzM3JscGQ0YzlxYjU1In0.CBy01IB-Z8klhIcFRnkXKg',\n",
    "    zoom=3\n",
    "))\n",
    "    \n",
    "pyo.plot(fig, filename = 'plotly_LINE_전처리.html')"
   ]
  },
  {
   "cell_type": "code",
   "execution_count": null,
   "id": "dfb50a6c",
   "metadata": {},
   "outputs": [],
   "source": [
    "import plotly.graph_objs as go\n",
    "import plotly.offline as pyo\n",
    "\n",
    "all_lats = []\n",
    "all_lons = []\n",
    "for i in range(len(straigt_line)):\n",
    "    lats = straigt_line[i].dLat\n",
    "    lons = straigt_line[i].dLon\n",
    "    \n",
    "    \n",
    "    all_lats.extend(lats)\n",
    "    all_lons.extend(lons)\n",
    "    \n",
    "# Create a scatter mapbox trace\n",
    "trace = go.Scattermapbox(\n",
    "    lat=all_lats,\n",
    "    lon=all_lons,\n",
    "    mode='markers',\n",
    "    marker=dict(\n",
    "        size=9,\n",
    "        color='#ECD5E3',\n",
    "        opacity=0.7\n",
    "    ),\n",
    ")\n",
    "\n",
    "# Create a layout\n",
    "layout = go.Layout(\n",
    "    mapbox=dict(\n",
    "        accesstoken='pk.eyJ1IjoibGFnb29uNiIsImEiOiJjbGd4M2gycmkwM3VzM3JscGQ0YzlxYjU1In0.CBy01IB-Z8klhIcFRnkXKg',\n",
    "        ),\n",
    "        zoom=3\n",
    "    )\n",
    ")\n",
    "\n",
    "# Create a figure\n",
    "fig = go.Figure(data=[trace], layout=layout)\n",
    "\n",
    "# Create html file\n",
    "pyo.plot(fig, filename = 'plotly_Marker_전처리.html')"
   ]
  },
  {
   "cell_type": "code",
   "execution_count": null,
   "id": "2e2c2938",
   "metadata": {},
   "outputs": [],
   "source": [
    "import holoviews as hv, colorcet as cc\n",
    "import datashader as ds\n",
    "from holoviews.element.tiles import EsriImagery\n",
    "from holoviews.operation.datashader import datashade\n",
    "hv.extension('bokeh')"
   ]
  },
  {
   "cell_type": "code",
   "execution_count": null,
   "id": "3f4f7ae2",
   "metadata": {},
   "outputs": [],
   "source": [
    "'''\n",
    "x,y = ds.utils.lnglat_to_meters(final_preprocessing.dLon, final_preprocessing.dLat)\n",
    "final_preprocessing['dLon'] = x\n",
    "final_preprocessing['dLat'] = y\n",
    "\n",
    "해당 코드는 경도 위도 -> 윕머케이터 좌표계 변환 코드임\n",
    "따라서, 데이터 프레임 변동이 없다면 처음에만 실행, 이후 실행 시 주석 처리 필수\n",
    "'''"
   ]
  },
  {
   "cell_type": "code",
   "execution_count": null,
   "id": "fb1bd114",
   "metadata": {
    "scrolled": true
   },
   "outputs": [],
   "source": [
    "# 최종 전처리 파일 Datashader visualization\n",
    "x,y = ds.utils.lnglat_to_meters(final_preprocessing.dLon, final_preprocessing.dLat)\n",
    "final_preprocessing['dLon'] = x\n",
    "final_preprocessing['dLat'] = y\n",
    "\n",
    "map_tiles = hv.element.tiles.EsriImagery().opts(alpha=0.5, width=600, height=600)\n",
    "\n",
    "points = hv.Points(final_preprocessing, ['dLon', 'dLat'])\n",
    "\n",
    "ship_traffic = datashade(points, cmap= 'magma', width=600, height=600, x_sampling=1, y_sampling=1)\n",
    "datashade_visualization = map_tiles * ship_traffic\n",
    "hv.save(datashade_visualization, 'final_preprocessing_datashade_.html')"
   ]
  },
  {
   "cell_type": "code",
   "execution_count": null,
   "id": "daa3ed99",
   "metadata": {},
   "outputs": [],
   "source": [
    "# 전처리 이전 1600만 row 파일 Datashader visualization\n",
    "x_,y_ = ds.utils.lnglat_to_meters(total.dLon, total.dLat)\n",
    "total['dLon'] = x_\n",
    "total['dLat'] = y_\n",
    "\n",
    "map_tiles_ = hv.element.tiles.EsriImagery().opts(alpha=0.5, width=600, height=600)\n",
    "\n",
    "points_ = hv.Points(total, ['dLon', 'dLat'])\n",
    "\n",
    "ship_traffic_ = datashade(points_, cmap= 'magma', width=600, height=600, x_sampling=1, y_sampling=1)\n",
    "datashade_visualization_ = map_tiles_ * ship_traffic_\n",
    "hv.save(datashade_visualization_, 'total_datashade.html')"
   ]
  },
  {
   "cell_type": "markdown",
   "id": "8038eb81",
   "metadata": {},
   "source": [
    "# 전처리 걸린 시간"
   ]
  },
  {
   "cell_type": "code",
   "execution_count": null,
   "id": "e9d5ab94",
   "metadata": {},
   "outputs": [],
   "source": [
    "import timeit\n",
    "start = timeit.default_timer()\n",
    "upper_2 = upper_2_dataframe(dict_)\n",
    "a1 = timeit.default_timer()\n",
    "add_dist = add_distance_df(upper_2)\n",
    "a2 = timeit.default_timer()\n",
    "dist_upper_10 = dist_upper_10_df(add_dist)\n",
    "a3 = timeit.default_timer()\n",
    "reset_time = reset_index_time_series(dist_upper_10)\n",
    "a4 = timeit.default_timer()\n",
    "add_cog = add_cog_interval(reset_time)\n",
    "a5 = timeit.default_timer()\n",
    "straigt_line = similar_straight_cog(add_cog)\n",
    "end = timeit.default_timer()\n",
    "\n",
    "print(f'전처리 전과정 수행 시간 : {end-start} sec')\n",
    "\n",
    "print('--------------------------')\n",
    "print(f'upper_2_dataframe 함수 실행 시간 : {a1 - start} sec')\n",
    "print(f'add_distance_df 함수 실행 시간 : {a2 - a1} sec')\n",
    "print(f'dist_upper_10_df 함수 실행 시간 : {a3 - a2} sec')\n",
    "print(f'reset_time_series 함수 실행 시간 : {a4 - a3} sec')\n",
    "print(f'add_cog_interval 함수 실행 시간 : {a5 - a4} sec')\n",
    "print(f'similar_straight_cog 함수 실행 시간 : {end - a5} sec')"
   ]
  },
  {
   "cell_type": "code",
   "execution_count": null,
   "id": "6f3ee949",
   "metadata": {},
   "outputs": [],
   "source": [
    "straigt_line[0][straigt_line[0].duplicated()]"
   ]
  },
  {
   "cell_type": "markdown",
   "id": "9279415b",
   "metadata": {},
   "source": [
    "# ---------------------------------------------------------------------------"
   ]
  },
  {
   "cell_type": "markdown",
   "id": "a65823fa",
   "metadata": {},
   "source": [
    "# COG 기준 값 설정 (EDA)"
   ]
  },
  {
   "cell_type": "code",
   "execution_count": null,
   "id": "e1fb6925",
   "metadata": {
    "scrolled": false
   },
   "outputs": [],
   "source": [
    "# cog_interval의 전처리 기준 값을 정하기 위해 cog_interval 의 분포를 알아보기 위한 코드\n",
    "plt.figure(figsize = (10,6))\n",
    "\n",
    "plt.subplot(3,1,1)\n",
    "sns.countplot(x = 'dCOG_diff', data = cog_interval)\n",
    "plt.xlim([0,50])\n",
    "plt.xticks(rotation = 90)\n",
    "plt.plot()\n",
    "plt.title('cog_interval frequency')\n",
    "plt.legend(cog_interval.SHIP_CODE)\n",
    "\n",
    "\n",
    "plt.subplot(3,1,2)\n",
    "sns.countplot(x = 'dCOG_diff', data = cog_interval)\n",
    "plt.xlim([10,50])\n",
    "plt.xticks(np.arange(10,50),rotation = 90)\n",
    "plt.plot()\n",
    "plt.title('cog_interval frequency (range : 10~50)')\n",
    "\n",
    "plt.subplot(3,1,3)\n",
    "sns.countplot(x = 'dCOG_diff', data = cog_interval)\n",
    "plt.xlim([0,10])\n",
    "plt.xticks(np.arange(0,10),rotation = 90)\n",
    "plt.plot()\n",
    "plt.title('cog_interval frequency (range : 0~10)')\n",
    "\n",
    "plt.subplots_adjust(hspace = 1.2)\n",
    "\n",
    "plt.show()"
   ]
  }
 ],
 "metadata": {
  "kernelspec": {
   "display_name": "Python 3",
   "language": "python",
   "name": "python3"
  },
  "language_info": {
   "codemirror_mode": {
    "name": "ipython",
    "version": 3
   },
   "file_extension": ".py",
   "mimetype": "text/x-python",
   "name": "python",
   "nbconvert_exporter": "python",
   "pygments_lexer": "ipython3",
   "version": "3.11.9"
  }
 },
 "nbformat": 4,
 "nbformat_minor": 5
}
